{
 "cells": [
  {
   "cell_type": "markdown",
   "metadata": {},
   "source": [
    "# Object Attributes - Lab"
   ]
  },
  {
   "cell_type": "markdown",
   "metadata": {},
   "source": [
    "## Introduction\n",
    "In this lab, we will practice defining classes and instance methods. We will also practice working with getter and setter (read and write) methods using properties and decorators to operate on instance variables."
   ]
  },
  {
   "cell_type": "markdown",
   "metadata": {},
   "source": [
    "## Objectives\n",
    "\n",
    "You will be able to:\n",
    "\n",
    "* Practice defining classes and instantiating instances of those classes\n",
    "* Practice defining instance methods"
   ]
  },
  {
   "cell_type": "markdown",
   "metadata": {},
   "source": [
    "## Defining Classes and Instance Methods"
   ]
  },
  {
   "cell_type": "markdown",
   "metadata": {},
   "source": [
    "In the cells below define a `Driver` class and define a `Passenger` class.\n",
    "\n",
    "Our driver instance objects should have instance variables for first name, last name, miles driven, and rating. We can name these instance variables `_first`, `_last` (short for first and last name), `_miles_driven`, and `_rating`. We will want to be able to access, change, and delete these values using the appropriate properties. \n",
    "\n",
    "After defining the above instance methods, define an instance method called `greet_passenger`, which returns the string `Hello! I'll be your driver today. My name is ` followed by that driver's first name and last name (i.e. `Hello! I'll be your driver today. My name is John Doe`)."
   ]
  },
  {
   "cell_type": "code",
   "execution_count": 24,
   "metadata": {},
   "outputs": [],
   "source": [
    "# Define Driver Class here with properties for each instance variable\n",
    "\n",
    "class Driver: \n",
    "        \n",
    "    def boogie(self):\n",
    "        print(\"getting first\")\n",
    "        return self._first \n",
    "    \n",
    "    def woogie(self, first):\n",
    "        print(\"setting first\")\n",
    "        self._first = first\n",
    "    \n",
    "    def set_last(self, last):\n",
    "        print(\"setting last\")\n",
    "        self._last = last\n",
    "        \n",
    "    def get_last(self):\n",
    "        print(\"getting last\")\n",
    "        return self._last\n",
    "    \n",
    "    def get_miles_driven(self):\n",
    "        print(\"getting miles\")\n",
    "        return self._miles_driven\n",
    "        \n",
    "    def set_miles_driven(self, miles):\n",
    "        print(\"setting miles\")\n",
    "        self._miles_driven = miles\n",
    "    \n",
    "    def get_rating(self): \n",
    "        print('getting rating')\n",
    "        return self._rating\n",
    "    \n",
    "    def set_rating(self, rating):\n",
    "        print('setting rating')\n",
    "        self._rating = rating \n",
    "    \n",
    "    def greet_passenger(self): \n",
    "        return f\"Hello! I'll be your driver today. My name is {self._first} {self._last}\" \n",
    "    \n",
    "    first = property(boogie, woogie)\n",
    "    last = property(get_last, set_last)\n",
    "    miles_driven = property(get_miles_driven, set_miles_driven)\n",
    "    rating = property(get_rating, set_rating)\n",
    "\n",
    "    \n",
    " "
   ]
  },
  {
   "cell_type": "code",
   "execution_count": 25,
   "metadata": {},
   "outputs": [
    {
     "name": "stdout",
     "output_type": "stream",
     "text": [
      "setting first\n",
      "setting last\n",
      "setting miles\n",
      "setting rating\n",
      "getting first\n",
      "Rachel\n",
      "getting last\n",
      "Jensen\n",
      "getting miles\n",
      "100\n",
      "getting rating\n",
      "4.9\n",
      "Hello! I'll be your driver today. My name is Rachel Jensen\n",
      "{'__module__': '__main__', 'boogie': <function Driver.boogie at 0x7f1e3423d268>, 'woogie': <function Driver.woogie at 0x7f1e3423d378>, 'set_last': <function Driver.set_last at 0x7f1e3423d400>, 'get_last': <function Driver.get_last at 0x7f1e3423d488>, 'get_miles_driven': <function Driver.get_miles_driven at 0x7f1e3423d510>, 'set_miles_driven': <function Driver.set_miles_driven at 0x7f1e3423d598>, 'get_rating': <function Driver.get_rating at 0x7f1e3423d730>, 'set_rating': <function Driver.set_rating at 0x7f1e3423d620>, 'greet_passenger': <function Driver.greet_passenger at 0x7f1e3423d6a8>, 'first': <property object at 0x7f1e3423a098>, 'last': <property object at 0x7f1e3423a0e8>, 'miles_driven': <property object at 0x7f1e3423a138>, 'rating': <property object at 0x7f1e3423a188>, '__dict__': <attribute '__dict__' of 'Driver' objects>, '__weakref__': <attribute '__weakref__' of 'Driver' objects>, '__doc__': None}\n"
     ]
    }
   ],
   "source": [
    "driver = Driver()\n",
    "driver.first = \"Rachel\"\n",
    "driver.last = \"Jensen\"\n",
    "driver.miles_driven = 100\n",
    "driver.rating = 4.9\n",
    "print(driver.first) # \"Rachel\"\n",
    "print(driver.last) # \"Jensen\"\n",
    "print(driver.miles_driven) # 100\n",
    "print(driver.rating) # 4.9\n",
    "print(driver.greet_passenger()) # Hello! I'll be your driver today. My name is Rachel Jensen\n",
    "print(vars(Driver))"
   ]
  },
  {
   "cell_type": "markdown",
   "metadata": {},
   "source": [
    "In the `Passenger` class, we will want our passenger instance objects to have the attributes first name, last name, and email. Let's continue using the leading underscore naming convention we employed in our `Driver` class and name these instance variables `_first`, `_last`, and `_email`. Define the appropriate instance methods using property and the appropriate decorators for reading (getting), writing (setting), and deleting instance variables. \n",
    "\n",
    "Next, we want to define an instance method called `yell_name` which returns a string with the passengers name in all caps (i.e. \"RON BURGUNDY\"). "
   ]
  },
  {
   "cell_type": "code",
   "execution_count": 9,
   "metadata": {},
   "outputs": [],
   "source": [
    "# Define Passenger Class here with properties for each instance variable\n",
    "class Passenger: \n",
    "        \n",
    "    def get_first(self):\n",
    "        print(\"getting first\")\n",
    "        return self._first \n",
    "    \n",
    "    def set_first(self, first):\n",
    "        print(\"setting first\")\n",
    "        self._first = first\n",
    "    \n",
    "    def del_first(self):\n",
    "        print(\"deleting email\")\n",
    "        self._first = None\n",
    "    \n",
    "    def set_last(self, last):\n",
    "        print(\"setting last\")\n",
    "        self._last = last\n",
    "        \n",
    "    def get_last(self):\n",
    "        print(\"getting last\")\n",
    "        return self._last\n",
    "    \n",
    "    def del_last(self):\n",
    "        print(\"deleting email\")\n",
    "        self._last = None\n",
    "    \n",
    "    def get_email(self):\n",
    "        print(\"getting email\")\n",
    "        return self._email\n",
    "        \n",
    "    def set_email(self, email):\n",
    "        print(\"setting email\")\n",
    "        self._email = email\n",
    "        \n",
    "    def del_email(self):\n",
    "        print(\"deleting email\")\n",
    "        self._email = None\n",
    "    \n",
    "    def  yell_name(self): \n",
    "        return f\"{self._first} {self._last}\".upper() \n",
    "    \n",
    "    first = property(get_first, set_first, del_first)\n",
    "    last = property(get_last, set_last, del_last)\n",
    "    email = property(get_email, set_email, del_email)\n",
    "\n",
    "     "
   ]
  },
  {
   "cell_type": "code",
   "execution_count": 12,
   "metadata": {},
   "outputs": [
    {
     "name": "stdout",
     "output_type": "stream",
     "text": [
      "setting first\n",
      "setting last\n",
      "setting email\n",
      "getting first\n",
      "Ron\n",
      "deleting email\n",
      "getting first\n",
      "None\n",
      "getting last\n",
      "Burgundy\n",
      "setting last\n",
      "getting last\n",
      "none: None\n",
      "getting email\n",
      "ron.burgundy1984@gmail.com\n",
      "deleting email\n",
      "getting email\n",
      "None\n"
     ]
    }
   ],
   "source": [
    "passenger = Passenger()\n",
    "passenger.first = \"Ron\"\n",
    "passenger.last = \"Burgundy\"\n",
    "passenger.email = \"ron.burgundy1984@gmail.com\"\n",
    "print(passenger.first) # \"Ron\"\n",
    "del passenger.first\n",
    "print(passenger.first) # \"Ron\"\n",
    "print(passenger.last) # \"Burgundy\"\n",
    "passenger.last = None\n",
    "print(\"none:\", passenger.last) # \"Burgundy\"\n",
    "\n",
    "print(passenger.email) # \"ron.burgundy1984@gmail.com\"\n",
    "passenger.yell_name() # \"RON BURGUNDY\"\n",
    "del passenger.email \n",
    "print(passenger.email)\n",
    "\n"
   ]
  },
  {
   "cell_type": "markdown",
   "metadata": {},
   "source": [
    "Great work!"
   ]
  },
  {
   "cell_type": "markdown",
   "metadata": {},
   "source": [
    "## Summary\n",
    "In this lab, we practiced defining classes, instance methods, and utilizing the property function to create, getter setter, and deleter properties so we could access and operate on our instance variables."
   ]
  }
 ],
 "metadata": {
  "kernelspec": {
   "display_name": "Python 3",
   "language": "python",
   "name": "python3"
  },
  "language_info": {
   "codemirror_mode": {
    "name": "ipython",
    "version": 3
   },
   "file_extension": ".py",
   "mimetype": "text/x-python",
   "name": "python",
   "nbconvert_exporter": "python",
   "pygments_lexer": "ipython3",
   "version": "3.6.6"
  }
 },
 "nbformat": 4,
 "nbformat_minor": 2
}
